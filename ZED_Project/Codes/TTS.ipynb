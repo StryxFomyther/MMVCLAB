{
 "cells": [
  {
   "cell_type": "code",
   "execution_count": 8,
   "metadata": {
    "collapsed": false,
    "scrolled": true
   },
   "outputs": [
    {
     "name": "stdout",
     "output_type": "stream",
     "text": [
      "There is a person 0.0 meters ahead.\n"
     ]
    }
   ],
   "source": [
    "# install pyttsx and libgcc\n",
    "import pyttsx\n",
    "import time\n",
    "time.sleep(1)\n",
    "\n",
    "def obj_pairing(line):\n",
    "    obj, depth = line.strip().split(',')\n",
    "    return [obj, float(depth)/100]\n",
    "\n",
    "def sentence_synth(obj_label, obj_depth, side_margin=0, dist_unit='meters'):\n",
    "    obj_label = obj_label\n",
    "    obj_depth = obj_depth\n",
    "    \n",
    "    if dist_unit == 'feet':\n",
    "        obj_depth *= 3.28084\n",
    "        side_margin *= 3.28084\n",
    "    \n",
    "    sntnc = 'There is a %s %.1f %s ahead.'%(obj_label, obj_depth, dist_unit)\n",
    "\n",
    "    if side_margin > 0:\n",
    "        sntnc += (' %.1f %s to your right.'%(side_margin, dist_unit))\n",
    "    elif side_margin < 0:\n",
    "        sntnc += (' %.1f %s to your left.'%(side_margin, dist_unit))\n",
    "    return sntnc\n",
    "\n",
    "# sound = engine.getProperty('voices')\n",
    "# engine.setProperty('voice', sound[16].id)\n",
    "\n",
    "path = '/home/cheng/Desktop/'\n",
    "with open(path + 'depth.txt') as file_object:\n",
    "    lines = file_object.readlines()\n",
    "\n",
    "obj_dict = dict(map(obj_pairing, lines))\n",
    "obj_label, obj_depth = sorted(obj_dict.items(), key=lambda x: x[1])[0]\n",
    "\n",
    "engine = pyttsx.init()\n",
    "sent = sentence_synth(obj_label, obj_depth)\n",
    "engine.say(sent)\n",
    "engine.runAndWait()"
   ]
  },
  {
   "cell_type": "code",
   "execution_count": 15,
   "metadata": {
    "collapsed": false
   },
   "outputs": [
    {
     "ename": "KeyboardInterrupt",
     "evalue": "",
     "output_type": "error",
     "traceback": [
      "\u001b[0;31m---------------------------------------------------------------------------\u001b[0m",
      "\u001b[0;31mKeyboardInterrupt\u001b[0m                         Traceback (most recent call last)",
      "\u001b[0;32m<ipython-input-15-ebf9532c5973>\u001b[0m in \u001b[0;36m<module>\u001b[0;34m()\u001b[0m\n\u001b[1;32m     45\u001b[0m     \u001b[0mengine\u001b[0m\u001b[0;34m.\u001b[0m\u001b[0msetProperty\u001b[0m\u001b[0;34m(\u001b[0m\u001b[0;34m'rate'\u001b[0m\u001b[0;34m,\u001b[0m \u001b[0mrate\u001b[0m\u001b[0;34m-\u001b[0m\u001b[0;36m50\u001b[0m\u001b[0;34m)\u001b[0m\u001b[0;34m\u001b[0m\u001b[0m\n\u001b[1;32m     46\u001b[0m     \u001b[0mengine\u001b[0m\u001b[0;34m.\u001b[0m\u001b[0msay\u001b[0m\u001b[0;34m(\u001b[0m\u001b[0msentence_synth\u001b[0m\u001b[0;34m(\u001b[0m\u001b[0mobj_label\u001b[0m\u001b[0;34m,\u001b[0m \u001b[0mobj_depth\u001b[0m\u001b[0;34m,\u001b[0m \u001b[0mout_unit\u001b[0m\u001b[0;34m=\u001b[0m\u001b[0;34m'feet'\u001b[0m\u001b[0;34m)\u001b[0m\u001b[0;34m)\u001b[0m\u001b[0;34m\u001b[0m\u001b[0m\n\u001b[0;32m---> 47\u001b[0;31m     \u001b[0mengine\u001b[0m\u001b[0;34m.\u001b[0m\u001b[0mrunAndWait\u001b[0m\u001b[0;34m(\u001b[0m\u001b[0;34m)\u001b[0m\u001b[0;34m\u001b[0m\u001b[0m\n\u001b[0m\u001b[1;32m     48\u001b[0m     \u001b[0mengine\u001b[0m \u001b[0;34m=\u001b[0m \u001b[0mNone\u001b[0m\u001b[0;34m\u001b[0m\u001b[0m\n\u001b[1;32m     49\u001b[0m     \u001b[0mtime\u001b[0m\u001b[0;34m.\u001b[0m\u001b[0msleep\u001b[0m\u001b[0;34m(\u001b[0m\u001b[0;36m5\u001b[0m\u001b[0;34m)\u001b[0m\u001b[0;34m\u001b[0m\u001b[0m\n",
      "\u001b[0;32m/home/cheng/anaconda2/lib/python2.7/site-packages/pyttsx-1.1-py2.7.egg/pyttsx/engine.pyc\u001b[0m in \u001b[0;36mrunAndWait\u001b[0;34m(self)\u001b[0m\n\u001b[1;32m    179\u001b[0m         \u001b[0mself\u001b[0m\u001b[0;34m.\u001b[0m\u001b[0m_inLoop\u001b[0m \u001b[0;34m=\u001b[0m \u001b[0mTrue\u001b[0m\u001b[0;34m\u001b[0m\u001b[0m\n\u001b[1;32m    180\u001b[0m         \u001b[0mself\u001b[0m\u001b[0;34m.\u001b[0m\u001b[0m_driverLoop\u001b[0m \u001b[0;34m=\u001b[0m \u001b[0mTrue\u001b[0m\u001b[0;34m\u001b[0m\u001b[0m\n\u001b[0;32m--> 181\u001b[0;31m         \u001b[0mself\u001b[0m\u001b[0;34m.\u001b[0m\u001b[0mproxy\u001b[0m\u001b[0;34m.\u001b[0m\u001b[0mrunAndWait\u001b[0m\u001b[0;34m(\u001b[0m\u001b[0;34m)\u001b[0m\u001b[0;34m\u001b[0m\u001b[0m\n\u001b[0m\u001b[1;32m    182\u001b[0m \u001b[0;34m\u001b[0m\u001b[0m\n\u001b[1;32m    183\u001b[0m     \u001b[0;32mdef\u001b[0m \u001b[0mstartLoop\u001b[0m\u001b[0;34m(\u001b[0m\u001b[0mself\u001b[0m\u001b[0;34m,\u001b[0m \u001b[0museDriverLoop\u001b[0m\u001b[0;34m=\u001b[0m\u001b[0mTrue\u001b[0m\u001b[0;34m)\u001b[0m\u001b[0;34m:\u001b[0m\u001b[0;34m\u001b[0m\u001b[0m\n",
      "\u001b[0;32m/home/cheng/anaconda2/lib/python2.7/site-packages/pyttsx-1.1-py2.7.egg/pyttsx/driver.pyc\u001b[0m in \u001b[0;36mrunAndWait\u001b[0;34m(self)\u001b[0m\n\u001b[1;32m    191\u001b[0m         '''\n\u001b[1;32m    192\u001b[0m         \u001b[0mself\u001b[0m\u001b[0;34m.\u001b[0m\u001b[0m_push\u001b[0m\u001b[0;34m(\u001b[0m\u001b[0mself\u001b[0m\u001b[0;34m.\u001b[0m\u001b[0m_engine\u001b[0m\u001b[0;34m.\u001b[0m\u001b[0mendLoop\u001b[0m\u001b[0;34m,\u001b[0m \u001b[0mtuple\u001b[0m\u001b[0;34m(\u001b[0m\u001b[0;34m)\u001b[0m\u001b[0;34m)\u001b[0m\u001b[0;34m\u001b[0m\u001b[0m\n\u001b[0;32m--> 193\u001b[0;31m         \u001b[0mself\u001b[0m\u001b[0;34m.\u001b[0m\u001b[0m_driver\u001b[0m\u001b[0;34m.\u001b[0m\u001b[0mstartLoop\u001b[0m\u001b[0;34m(\u001b[0m\u001b[0;34m)\u001b[0m\u001b[0;34m\u001b[0m\u001b[0m\n\u001b[0m\u001b[1;32m    194\u001b[0m \u001b[0;34m\u001b[0m\u001b[0m\n\u001b[1;32m    195\u001b[0m     \u001b[0;32mdef\u001b[0m \u001b[0mstartLoop\u001b[0m\u001b[0;34m(\u001b[0m\u001b[0mself\u001b[0m\u001b[0;34m,\u001b[0m \u001b[0museDriverLoop\u001b[0m\u001b[0;34m)\u001b[0m\u001b[0;34m:\u001b[0m\u001b[0;34m\u001b[0m\u001b[0m\n",
      "\u001b[0;32m/home/cheng/anaconda2/lib/python2.7/site-packages/pyttsx-1.1-py2.7.egg/pyttsx/drivers/espeak.pyc\u001b[0m in \u001b[0;36mstartLoop\u001b[0;34m(self)\u001b[0m\n\u001b[1;32m    116\u001b[0m                 \u001b[0mself\u001b[0m\u001b[0;34m.\u001b[0m\u001b[0m_proxy\u001b[0m\u001b[0;34m.\u001b[0m\u001b[0mnotify\u001b[0m\u001b[0;34m(\u001b[0m\u001b[0;34m'finished-utterance'\u001b[0m\u001b[0;34m,\u001b[0m \u001b[0mcompleted\u001b[0m\u001b[0;34m=\u001b[0m\u001b[0mFalse\u001b[0m\u001b[0;34m)\u001b[0m\u001b[0;34m\u001b[0m\u001b[0m\n\u001b[1;32m    117\u001b[0m                 \u001b[0mself\u001b[0m\u001b[0;34m.\u001b[0m\u001b[0m_proxy\u001b[0m\u001b[0;34m.\u001b[0m\u001b[0msetBusy\u001b[0m\u001b[0;34m(\u001b[0m\u001b[0mFalse\u001b[0m\u001b[0;34m)\u001b[0m\u001b[0;34m\u001b[0m\u001b[0m\n\u001b[0;32m--> 118\u001b[0;31m             \u001b[0mtime\u001b[0m\u001b[0;34m.\u001b[0m\u001b[0msleep\u001b[0m\u001b[0;34m(\u001b[0m\u001b[0;36m0.01\u001b[0m\u001b[0;34m)\u001b[0m\u001b[0;34m\u001b[0m\u001b[0m\n\u001b[0m\u001b[1;32m    119\u001b[0m \u001b[0;34m\u001b[0m\u001b[0m\n\u001b[1;32m    120\u001b[0m     \u001b[0;32mdef\u001b[0m \u001b[0mendLoop\u001b[0m\u001b[0;34m(\u001b[0m\u001b[0mself\u001b[0m\u001b[0;34m)\u001b[0m\u001b[0;34m:\u001b[0m\u001b[0;34m\u001b[0m\u001b[0m\n",
      "\u001b[0;31mKeyboardInterrupt\u001b[0m: "
     ]
    }
   ],
   "source": [
    "# install pyttsx and libgcc\n",
    "import pyttsx\n",
    "import time\n",
    "\n",
    "def obj_pairing(line):\n",
    "    obj, depth = line.strip().split(',')\n",
    "    return [obj, float(depth)/100]\n",
    "\n",
    "def sentence_synth(obj_label, obj_depth, side_margin=0, out_unit='meters'):\n",
    "    '''\n",
    "    This function receives the info regarding the closest object in screen\n",
    "        obj_label -- object label\n",
    "        obj_depth -- object depth\n",
    "        side_margin -- optional, states the horizontal location, default 0\n",
    "        out_unit -- output distance unit, can be meters or feet, default meters\n",
    "    (Assuming the input distance unit is 'meter'.)\n",
    "    '''\n",
    "    obj_label = obj_label\n",
    "    obj_depth = obj_depth\n",
    "    \n",
    "    if out_unit.lower() == 'feet':\n",
    "        obj_depth *= 3.28084\n",
    "        side_margin *= 3.28084\n",
    "    sntnc = 'There is a %s %.1f %s ahead.'%(obj_label, obj_depth, out_unit)\n",
    "\n",
    "    if side_margin > 0:\n",
    "        sntnc += (' %.1f %s to your right.'%(side_margin, out_unit))\n",
    "    elif side_margin < 0:\n",
    "        sntnc += (' %.1f %s to your left.'%(side_margin, out_unit))\n",
    "    return sntnc\n",
    "\n",
    "# sound = engine.getProperty('voices')\n",
    "# engine.setProperty('voice', sound[16].id)\n",
    "\n",
    "path = '/home/cheng/Desktop/'\n",
    "while True:\n",
    "    with open(path + 'depth.txt') as file_object:\n",
    "        lines = file_object.readlines()\n",
    "\n",
    "    obj_dict = dict(map(obj_pairing, lines))\n",
    "    obj_label, obj_depth = sorted(obj_dict.items(), key=lambda x: x[1])[0]\n",
    "\n",
    "    engine = pyttsx.init()\n",
    "    rate = engine.getProperty('rate')\n",
    "    engine.setProperty('rate', rate-50)\n",
    "    engine.say(sentence_synth(obj_label, obj_depth, out_unit='feet'))\n",
    "    engine.runAndWait()\n",
    "    engine = None\n",
    "    time.sleep(5)"
   ]
  },
  {
   "cell_type": "code",
   "execution_count": null,
   "metadata": {
    "collapsed": true
   },
   "outputs": [],
   "source": []
  },
  {
   "cell_type": "code",
   "execution_count": null,
   "metadata": {
    "collapsed": true
   },
   "outputs": [],
   "source": []
  },
  {
   "cell_type": "code",
   "execution_count": null,
   "metadata": {
    "collapsed": true
   },
   "outputs": [],
   "source": []
  }
 ],
 "metadata": {
  "kernelspec": {
   "display_name": "Python 2",
   "language": "python",
   "name": "python2"
  },
  "language_info": {
   "codemirror_mode": {
    "name": "ipython",
    "version": 2
   },
   "file_extension": ".py",
   "mimetype": "text/x-python",
   "name": "python",
   "nbconvert_exporter": "python",
   "pygments_lexer": "ipython2",
   "version": "2.7.13"
  }
 },
 "nbformat": 4,
 "nbformat_minor": 2
}
